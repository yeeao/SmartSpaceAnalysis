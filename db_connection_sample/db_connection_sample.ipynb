{
 "cells": [
  {
   "cell_type": "markdown",
   "metadata": {},
   "source": [
    "### Connecting to a Database on Azure\n",
    "\n",
    "Prerequisite:\n",
    "- Install odbc driver https://learn.microsoft.com/en-us/sql/connect/odbc/download-odbc-driver-for-sql-server?view=sql-server-ver15\n",
    "- You may need pyodbc\\\n",
    "[pip] https://pypi.org/project/pyodbc/ \\\n",
    "[conda] https://anaconda.org/anaconda/pyodbc\n"
   ]
  },
  {
   "cell_type": "code",
   "execution_count": 1,
   "metadata": {},
   "outputs": [],
   "source": [
    "import pandas as pd\n",
    "import numpy as np\n",
    "from sqlalchemy import create_engine\n",
    "from datetime import datetime\n",
    "from tqdm import tqdm\n",
    "import urllib\n",
    "\n",
    "tqdm.pandas()"
   ]
  },
  {
   "cell_type": "code",
   "execution_count": 2,
   "metadata": {},
   "outputs": [],
   "source": [
    "# connect to azure\n",
    "password = \"cro-r5sweDlVay5t=eta\"\n",
    "conn_string_odbc=\"Driver={ODBC Driver 18 for SQL Server};Server=tcp:smartspace.database.windows.net,1433;Database=connectionspace;Uid=stats170-G6;Pwd=cro-r5sweDlVay5t=eta;Encrypt=yes;TrustServerCertificate=no;Connection Timeout=30;\"\n",
    "params = urllib.parse.quote_plus(conn_string_odbc)\n",
    "conn_str_formatted = 'mssql+pyodbc:///?odbc_connect={}'.format(params)\n",
    "engine = create_engine(conn_str_formatted)"
   ]
  },
  {
   "cell_type": "markdown",
   "metadata": {},
   "source": [
    "Loading data from database on cloud may take a few minutes for a large dataset."
   ]
  },
  {
   "cell_type": "code",
   "execution_count": 8,
   "metadata": {},
   "outputs": [
    {
     "data": {
      "text/plain": [
       "1578918"
      ]
     },
     "execution_count": 8,
     "metadata": {},
     "output_type": "execute_result"
    }
   ],
   "source": [
    "# get Spring 2018\n",
    "# This will take like a minute.\n",
    "df = pd.read_sql('''SELECT [macAddress]\n",
    "      ,[userId]\n",
    "      ,[startTimestamp]\n",
    "      ,[endTimestamp]\n",
    "      ,[room_location]\n",
    "FROM [Processed_Data]\n",
    "WHERE [startTimestamp] >= '2018-03-28'\n",
    "  AND [startTimestamp] <= '2018-06-15';''',\n",
    "                  con=engine)\n",
    "engine.dispose()\n",
    "len(df)"
   ]
  },
  {
   "cell_type": "code",
   "execution_count": 9,
   "metadata": {},
   "outputs": [
    {
     "data": {
      "text/html": [
       "<div>\n",
       "<style scoped>\n",
       "    .dataframe tbody tr th:only-of-type {\n",
       "        vertical-align: middle;\n",
       "    }\n",
       "\n",
       "    .dataframe tbody tr th {\n",
       "        vertical-align: top;\n",
       "    }\n",
       "\n",
       "    .dataframe thead th {\n",
       "        text-align: right;\n",
       "    }\n",
       "</style>\n",
       "<table border=\"1\" class=\"dataframe\">\n",
       "  <thead>\n",
       "    <tr style=\"text-align: right;\">\n",
       "      <th></th>\n",
       "      <th>macAddress</th>\n",
       "      <th>userId</th>\n",
       "      <th>startTimestamp</th>\n",
       "      <th>endTimestamp</th>\n",
       "      <th>room_location</th>\n",
       "    </tr>\n",
       "  </thead>\n",
       "  <tbody>\n",
       "    <tr>\n",
       "      <th>0</th>\n",
       "      <td>00014c815769ff2a99662e77a228abc50f0ab012</td>\n",
       "      <td>174218</td>\n",
       "      <td>2018-04-04 12:48:52</td>\n",
       "      <td>2018-04-04 12:54:21</td>\n",
       "      <td>2019</td>\n",
       "    </tr>\n",
       "    <tr>\n",
       "      <th>1</th>\n",
       "      <td>00014c815769ff2a99662e77a228abc50f0ab012</td>\n",
       "      <td>174218</td>\n",
       "      <td>2018-04-04 12:54:21</td>\n",
       "      <td>2018-04-04 13:04:21</td>\n",
       "      <td>2019</td>\n",
       "    </tr>\n",
       "    <tr>\n",
       "      <th>2</th>\n",
       "      <td>00014c815769ff2a99662e77a228abc50f0ab012</td>\n",
       "      <td>174218</td>\n",
       "      <td>2018-04-04 13:04:21</td>\n",
       "      <td>2018-04-04 13:53:18</td>\n",
       "      <td>2019</td>\n",
       "    </tr>\n",
       "  </tbody>\n",
       "</table>\n",
       "</div>"
      ],
      "text/plain": [
       "                                 macAddress  userId      startTimestamp  \\\n",
       "0  00014c815769ff2a99662e77a228abc50f0ab012  174218 2018-04-04 12:48:52   \n",
       "1  00014c815769ff2a99662e77a228abc50f0ab012  174218 2018-04-04 12:54:21   \n",
       "2  00014c815769ff2a99662e77a228abc50f0ab012  174218 2018-04-04 13:04:21   \n",
       "\n",
       "         endTimestamp room_location  \n",
       "0 2018-04-04 12:54:21          2019  \n",
       "1 2018-04-04 13:04:21          2019  \n",
       "2 2018-04-04 13:53:18          2019  "
      ]
     },
     "execution_count": 9,
     "metadata": {},
     "output_type": "execute_result"
    }
   ],
   "source": [
    "df.head(3)"
   ]
  },
  {
   "cell_type": "code",
   "execution_count": 11,
   "metadata": {},
   "outputs": [
    {
     "data": {
      "text/plain": [
       "macAddress                object\n",
       "userId                     int64\n",
       "startTimestamp    datetime64[ns]\n",
       "endTimestamp      datetime64[ns]\n",
       "room_location             object\n",
       "dtype: object"
      ]
     },
     "execution_count": 11,
     "metadata": {},
     "output_type": "execute_result"
    }
   ],
   "source": [
    "df.dtypes"
   ]
  },
  {
   "cell_type": "markdown",
   "metadata": {},
   "source": [
    "### Example operation using tqdm"
   ]
  },
  {
   "cell_type": "code",
   "execution_count": 12,
   "metadata": {},
   "outputs": [],
   "source": [
    "# eliminate rows with location == 'out'\n",
    "df = df.loc[df[\"room_location\"] != 'out']"
   ]
  },
  {
   "cell_type": "code",
   "execution_count": 14,
   "metadata": {},
   "outputs": [
    {
     "name": "stderr",
     "output_type": "stream",
     "text": [
      "100%|██████████| 1492039/1492039 [00:02<00:00, 633098.54it/s] \n"
     ]
    },
    {
     "data": {
      "text/plain": [
       "147909"
      ]
     },
     "execution_count": 14,
     "metadata": {},
     "output_type": "execute_result"
    }
   ],
   "source": [
    "# filter by date\n",
    "start_date = datetime(2018, 4, 22) # Sunday\n",
    "end_date = datetime(2018, 4, 28) # Saturday\n",
    "wdf = df.loc[df[\"startTimestamp\"]\n",
    "             .progress_map(lambda c : c.date() >= start_date.date() \n",
    "                           and c.date() <= end_date.date())]\n",
    "len(wdf)"
   ]
  },
  {
   "cell_type": "code",
   "execution_count": null,
   "metadata": {},
   "outputs": [],
   "source": []
  }
 ],
 "metadata": {
  "kernelspec": {
   "display_name": "stats170_pj",
   "language": "python",
   "name": "python3"
  },
  "language_info": {
   "codemirror_mode": {
    "name": "ipython",
    "version": 3
   },
   "file_extension": ".py",
   "mimetype": "text/x-python",
   "name": "python",
   "nbconvert_exporter": "python",
   "pygments_lexer": "ipython3",
   "version": "3.11.4"
  }
 },
 "nbformat": 4,
 "nbformat_minor": 2
}
