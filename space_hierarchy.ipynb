{
 "cells": [
  {
   "cell_type": "code",
   "execution_count": 67,
   "metadata": {},
   "outputs": [],
   "source": [
    "import pandas as pd\n",
    "from sqlalchemy import create_engine\n",
    "from tqdm import tqdm\n",
    "import urllib\n",
    "from sqlalchemy import text\n",
    "\n",
    "tqdm.pandas()"
   ]
  },
  {
   "cell_type": "markdown",
   "metadata": {},
   "source": [
    "Connect to Azure"
   ]
  },
  {
   "cell_type": "code",
   "execution_count": 68,
   "metadata": {},
   "outputs": [],
   "source": [
    "\n",
    "conn_string_odbc=\"Driver={ODBC Driver 18 for SQL Server};Server=tcp:smartspace.database.windows.net,1433;Database=connectionspace;Uid=stats170-G6;Pwd=cro-r5sweDlVay5t=eta;Encrypt=yes;TrustServerCertificate=no;Connection Timeout=30;\"\n",
    "params = urllib.parse.quote_plus(conn_string_odbc)\n",
    "conn_str_formatted = 'mssql+pyodbc:///?odbc_connect={}'.format(params)\n",
    "engine = create_engine(conn_str_formatted)"
   ]
  },
  {
   "cell_type": "markdown",
   "metadata": {},
   "source": [
    "Fetch Tables"
   ]
  },
  {
   "cell_type": "code",
   "execution_count": 69,
   "metadata": {},
   "outputs": [
    {
     "name": "stdout",
     "output_type": "stream",
     "text": [
      "('connectionspace', 'dbo', 'region_to_space', 'BASE TABLE')\n",
      "('connectionspace', 'dbo', 'processed_data_merged', 'BASE TABLE')\n",
      "('connectionspace', 'dbo', 'dbh_space', 'BASE TABLE')\n",
      "('connectionspace', 'dbo', 'space_groups', 'BASE TABLE')\n",
      "('connectionspace', 'dbo', 'space_hierarchy', 'BASE TABLE')\n",
      "('connectionspace', 'dbo', 'Processed_Data', 'BASE TABLE')\n",
      "('connectionspace', 'dbo', 'sensor', 'BASE TABLE')\n",
      "('connectionspace', 'dbo', 'space_types', 'BASE TABLE')\n"
     ]
    }
   ],
   "source": [
    "# fetch table names\n",
    "conn = engine.connect()\n",
    "\n",
    "query = text(\"SELECT * FROM INFORMATION_SCHEMA.TABLES WHERE TABLE_TYPE = 'BASE TABLE'\")\n",
    "result = conn.execute(query)\n",
    "for row in result:\n",
    "    print(row)\n",
    "\n",
    "conn.close()"
   ]
  },
  {
   "cell_type": "code",
   "execution_count": 70,
   "metadata": {},
   "outputs": [
    {
     "name": "stdout",
     "output_type": "stream",
     "text": [
      "      sensor_name                                       rooms\n",
      "0  3141-clwa-1100                    1100,1300,1407,1403,1406\n",
      "1  3141-clwa-1200                              1100,1200,1300\n",
      "2  3141-clwa-1300                         1100,1200,1300,1403\n",
      "3  3141-clwa-1412  1403,1406,1428,1413,1300,1412,1420,1100_L1\n",
      "4  3141-clwa-1420          1412,1420,1422,1407,1403,1406,1428\n"
     ]
    }
   ],
   "source": [
    "# fetch region_to_space table\n",
    "conn = engine.connect()\n",
    "\n",
    "query = text(\"SELECT * FROM region_to_space\")\n",
    "results = conn.execute(query)\n",
    "\n",
    "rows = results.fetchall()\n",
    "cols = results.keys()\n",
    "df_region_to_space = pd.DataFrame(rows, columns=cols)\n",
    "\n",
    "conn.close()\n",
    "\n",
    "print(df_region_to_space.head())"
   ]
  },
  {
   "cell_type": "code",
   "execution_count": 71,
   "metadata": {},
   "outputs": [
    {
     "name": "stdout",
     "output_type": "stream",
     "text": [
      "   location_id location_name location_type  parent_space_id research_group  \\\n",
      "0            1          1407           FAC              339           None   \n",
      "1            2       1100_L1         CLASS              339           None   \n",
      "2            3          1403          None              339           None   \n",
      "3            4          1100         CLASS              339           None   \n",
      "4            5          1434    ELECTRICAL              339           None   \n",
      "\n",
      "  occupant research_areas  \n",
      "0     None                 \n",
      "1     None                 \n",
      "2     None                 \n",
      "3     None                 \n",
      "4     None                 \n"
     ]
    }
   ],
   "source": [
    "# Fetch space_groups table\n",
    "conn = engine.connect()\n",
    "\n",
    "query = text(\"SELECT * FROM space_groups\")\n",
    "results = conn.execute(query)\n",
    "\n",
    "rows = results.fetchall()\n",
    "cols = results.keys()\n",
    "df_space_groups = pd.DataFrame(rows, columns=cols)\n",
    "\n",
    "conn.close()\n",
    "\n",
    "print(df_space_groups.head())"
   ]
  },
  {
   "cell_type": "markdown",
   "metadata": {},
   "source": [
    "Merging Space Tables"
   ]
  },
  {
   "cell_type": "code",
   "execution_count": 72,
   "metadata": {},
   "outputs": [
    {
     "name": "stdout",
     "output_type": "stream",
     "text": [
      "        room                                            sensors\n",
      "0       1100  [3141-clwa-1100, 3141-clwa-1200, 3141-clwa-130...\n",
      "1    1100_L1                                   [3141-clwa-1412]\n",
      "2       1200  [3141-clwa-1200, 3141-clwa-1300, 3141-clwb-120...\n",
      "3       1300  [3141-clwa-1100, 3141-clwa-1200, 3141-clwa-130...\n",
      "4       1403  [3141-clwa-1100, 3141-clwa-1300, 3141-clwa-141...\n",
      "..       ...                                                ...\n",
      "301     6212   [3146-clwa-6029, 3146-clwa-6217, 3146-clwa-6219]\n",
      "302     6213                   [3146-clwa-6217, 3146-clwa-6219]\n",
      "303     6215                   [3146-clwa-6217, 3146-clwa-6219]\n",
      "304     6218   [3146-clwa-6011, 3146-clwa-6217, 3146-clwa-6219]\n",
      "305     6219   [3146-clwa-6011, 3146-clwa-6217, 3146-clwa-6219]\n",
      "\n",
      "[306 rows x 2 columns]\n"
     ]
    }
   ],
   "source": [
    "# Create list of rooms, instead of (rooms string separated by commas)\n",
    "split_rooms = df_region_to_space['rooms'].str.split(',')\n",
    "\n",
    "# New Dataframe for Rooms to Sensor 1:1\n",
    "df_room_to_sensors = pd.DataFrame({\n",
    "    'room': [room for rooms in split_rooms for room in rooms],\n",
    "    'sensors': df_region_to_space['sensor_name'].repeat(split_rooms.apply(len))\n",
    "})\n",
    "\n",
    "\n",
    "# Group by room and convert individual sensors into list\n",
    "df_room_to_sensors_grouped = df_room_to_sensors.groupby('room')['sensors'].agg(list).reset_index()\n",
    "\n",
    "# Sort the DataFrame by 'room' column in ascending order\n",
    "df_room_to_sensors_sorted = df_room_to_sensors_grouped.sort_values(by='room')\n",
    "\n",
    "print(df_room_to_sensors_sorted)"
   ]
  },
  {
   "cell_type": "code",
   "execution_count": 73,
   "metadata": {},
   "outputs": [],
   "source": [
    "# Merge space columns into 1 resulting table\n",
    "df_space_hierarchy = df_room_to_sensors_sorted.copy()"
   ]
  },
  {
   "cell_type": "code",
   "execution_count": 74,
   "metadata": {},
   "outputs": [
    {
     "name": "stdout",
     "output_type": "stream",
     "text": [
      "        room                                            sensors floor\n",
      "0       1100  [3141-clwa-1100, 3141-clwa-1200, 3141-clwa-130...     1\n",
      "1    1100_L1                                   [3141-clwa-1412]     1\n",
      "2       1200  [3141-clwa-1200, 3141-clwa-1300, 3141-clwb-120...     1\n",
      "3       1300  [3141-clwa-1100, 3141-clwa-1200, 3141-clwa-130...     1\n",
      "4       1403  [3141-clwa-1100, 3141-clwa-1300, 3141-clwa-141...     1\n",
      "..       ...                                                ...   ...\n",
      "301     6212   [3146-clwa-6029, 3146-clwa-6217, 3146-clwa-6219]     6\n",
      "302     6213                   [3146-clwa-6217, 3146-clwa-6219]     6\n",
      "303     6215                   [3146-clwa-6217, 3146-clwa-6219]     6\n",
      "304     6218   [3146-clwa-6011, 3146-clwa-6217, 3146-clwa-6219]     6\n",
      "305     6219   [3146-clwa-6011, 3146-clwa-6217, 3146-clwa-6219]     6\n",
      "\n",
      "[306 rows x 3 columns]\n"
     ]
    }
   ],
   "source": [
    "# Create floor column\n",
    "df_space_hierarchy['floor'] = df_space_hierarchy['room'].str[0]\n",
    "\n",
    "print(df_space_hierarchy)"
   ]
  },
  {
   "cell_type": "code",
   "execution_count": 75,
   "metadata": {},
   "outputs": [
    {
     "name": "stdout",
     "output_type": "stream",
     "text": [
      "     location_id location_name location_type  parent_space_id research_group  \\\n",
      "0              1          1407           FAC              339           None   \n",
      "1              2       1100_L1         CLASS              339           None   \n",
      "2              3          1403          None              339           None   \n",
      "3              4          1100         CLASS              339           None   \n",
      "4              5          1434    ELECTRICAL              339           None   \n",
      "..           ...           ...           ...              ...            ...   \n",
      "339          340        Floor2          None              345           None   \n",
      "340          341        Floor3          None              345           None   \n",
      "341          342        Floor4          None              345           None   \n",
      "342          343        Floor5          None              345           None   \n",
      "343          344        Floor6          None              345           None   \n",
      "\n",
      "    occupant research_areas  \n",
      "0       None                 \n",
      "1       None                 \n",
      "2       None                 \n",
      "3       None                 \n",
      "4       None                 \n",
      "..       ...            ...  \n",
      "339     None                 \n",
      "340     None                 \n",
      "341     None                 \n",
      "342     None                 \n",
      "343     None                 \n",
      "\n",
      "[344 rows x 7 columns]\n"
     ]
    }
   ],
   "source": [
    "# Check duplicate locations\n",
    "duplicate_locations = df_space_groups[df_space_groups.duplicated(subset=['location_name'], keep=False)]\n",
    "\n",
    "print(df_space_groups)"
   ]
  },
  {
   "cell_type": "code",
   "execution_count": 76,
   "metadata": {},
   "outputs": [
    {
     "name": "stdout",
     "output_type": "stream",
     "text": [
      "        room                                            sensors floor  \\\n",
      "0       1100  [3141-clwa-1100, 3141-clwa-1200, 3141-clwa-130...     1   \n",
      "1    1100_L1                                   [3141-clwa-1412]     1   \n",
      "2       1200  [3141-clwa-1200, 3141-clwa-1300, 3141-clwb-120...     1   \n",
      "3       1300  [3141-clwa-1100, 3141-clwa-1200, 3141-clwa-130...     1   \n",
      "4       1403  [3141-clwa-1100, 3141-clwa-1300, 3141-clwa-141...     1   \n",
      "..       ...                                                ...   ...   \n",
      "301     6212   [3146-clwa-6029, 3146-clwa-6217, 3146-clwa-6219]     6   \n",
      "302     6213                   [3146-clwa-6217, 3146-clwa-6219]     6   \n",
      "303     6215                   [3146-clwa-6217, 3146-clwa-6219]     6   \n",
      "304     6218   [3146-clwa-6011, 3146-clwa-6217, 3146-clwa-6219]     6   \n",
      "305     6219   [3146-clwa-6011, 3146-clwa-6217, 3146-clwa-6219]     6   \n",
      "\n",
      "     location_id location_type  \n",
      "0            4.0         CLASS  \n",
      "1            2.0         CLASS  \n",
      "2           10.0         CLASS  \n",
      "3           12.0         CLASS  \n",
      "4            3.0          None  \n",
      "..           ...           ...  \n",
      "301        331.0          None  \n",
      "302        332.0          None  \n",
      "303          NaN           NaN  \n",
      "304        334.0          None  \n",
      "305        335.0         STAFF  \n",
      "\n",
      "[306 rows x 5 columns]\n"
     ]
    }
   ],
   "source": [
    "# Remove the second occurrence of duplicates based on 'location_name'\n",
    "df_space_groups = df_space_groups.drop_duplicates(subset=['location_name'], keep='first')\n",
    "\n",
    "# Filter space_groups\n",
    "df_space_groups_filtered = df_space_groups[['location_name','location_id', 'location_type']]\n",
    "\n",
    "# Merge on room\n",
    "df_space_hierarchy = df_space_hierarchy.join(df_space_groups_filtered.set_index('location_name'), on='room')\n",
    "\n",
    "print(df_space_hierarchy)"
   ]
  },
  {
   "cell_type": "code",
   "execution_count": 77,
   "metadata": {},
   "outputs": [],
   "source": [
    "# # Add table into Azure\n",
    "# df_space_hierarchy.to_sql('space_hierarchy', engine, if_exists='replace', index=False)\n",
    "\n",
    "# print(\"Table created successfully.\")"
   ]
  }
 ],
 "metadata": {
  "kernelspec": {
   "display_name": "Python 3",
   "language": "python",
   "name": "python3"
  },
  "language_info": {
   "codemirror_mode": {
    "name": "ipython",
    "version": 3
   },
   "file_extension": ".py",
   "mimetype": "text/x-python",
   "name": "python",
   "nbconvert_exporter": "python",
   "pygments_lexer": "ipython3",
   "version": "3.10.0"
  }
 },
 "nbformat": 4,
 "nbformat_minor": 2
}
